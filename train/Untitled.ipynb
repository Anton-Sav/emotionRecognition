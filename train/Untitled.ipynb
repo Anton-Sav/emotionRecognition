{
 "cells": [
  {
   "cell_type": "code",
   "execution_count": 1,
   "metadata": {},
   "outputs": [],
   "source": [
    "import serial\n",
    "import numpy as np\n",
    "from numpy import array, log1p, arange, abs as np_abs\n",
    "from numpy.fft import rfft, rfftfreq, irfft\n",
    "from numpy.random import uniform\n",
    "import matplotlib.pyplot as plt\n",
    "import time\n",
    "import pickle\n",
    "from math import sin, pi"
   ]
  },
  {
   "cell_type": "code",
   "execution_count": 2,
   "metadata": {},
   "outputs": [],
   "source": [
    "class eegSmtReader:\n",
    "    def __init__(self, port_name):\n",
    "        self.port_name = port_name\n",
    "        \n",
    "    def read_data(self, size):\n",
    "        self.cer = serial.Serial(self.port_name, baudrate=57600)\n",
    "        \n",
    "        data = b''\n",
    "        first = True\n",
    "        while len(data) < size*17 + 5000:\n",
    "            if first:\n",
    "                t = self.cer.read_all()\n",
    "                first = False\n",
    "                continue\n",
    "            data += self.cer.read_all()\n",
    "            \n",
    "            time.sleep(0.05)\n",
    "            \n",
    "        data = data[2000:]\n",
    "        \n",
    "        \n",
    "        parse_data = [[] for _ in range(17)]\n",
    "        \n",
    "        for ind, data_byte in enumerate(data):\n",
    "            parse_data[ind % 17].append(data_byte)\n",
    "\n",
    "\n",
    "        sep_parse_data = [row[:size] for row in parse_data]\n",
    "        \n",
    "        self.sep_parse_data = sep_parse_data\n",
    "        self.cer.close()\n",
    "        \n",
    "        res = np.array(sep_parse_data)\n",
    "        \n",
    "        for ind, row in enumerate(res):\n",
    "            \n",
    "            if (row[:100] == 165.0).sum() == 100:\n",
    "                print('yo' + str(ind))\n",
    "                res = np.roll(res, -ind, axis=0)\n",
    "                break\n",
    "        \n",
    "        self.data = res\n",
    "        \n",
    "        sub_data = res[[i for i in range(4, 16)]]\n",
    "        \n",
    "        res_arr = []\n",
    "        binary_func = lambda elem: np.binary_repr(elem, width=8)\n",
    "        for row_first, row_second in zip(sub_data[::2], sub_data[1::2]):\n",
    "            res_row = [int(binary_func(first) + binary_func(second), 2) for first, second in zip(row_first, row_second)]\n",
    "\n",
    "            res_arr.append(res_row)\n",
    "        \n",
    "        return np.array(res_arr)"
   ]
  }
 ],
 "metadata": {
  "kernelspec": {
   "display_name": "Python 3",
   "language": "python",
   "name": "python3"
  },
  "language_info": {
   "codemirror_mode": {
    "name": "ipython",
    "version": 3
   },
   "file_extension": ".py",
   "mimetype": "text/x-python",
   "name": "python",
   "nbconvert_exporter": "python",
   "pygments_lexer": "ipython3",
   "version": "3.6.8"
  }
 },
 "nbformat": 4,
 "nbformat_minor": 2
}
