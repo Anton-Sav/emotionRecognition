{
 "cells": [
  {
   "cell_type": "code",
   "execution_count": 1,
   "metadata": {},
   "outputs": [],
   "source": [
    "import pandas as pd\n",
    "import pickle\n",
    "from numpy import array, log1p, arange, abs as np_abs\n",
    "from numpy.fft import rfft, rfftfreq, irfft\n",
    "from numpy.random import uniform\n",
    "\n",
    "\n",
    "\n",
    "def create_table():\n",
    "    df = pd.DataFrame(columns=['range', 'a', 'b','is_image', 'name'])\n",
    "    return df\n",
    "\n",
    "\n",
    "\n",
    "def getFeatures(data):\n",
    "    res = rfft(data)\n",
    "    FD = 256\n",
    "    N = data.shape[0]\n",
    "    #plt.plot(rfftfreq(N, 1./FD), np_abs(res)/N)\n",
    "    amp = np_abs(res)/N\n",
    "    chastota = rfftfreq(N, 1./FD)\n",
    "    alpha = amp[(chastota >= 8) & (chastota < 12)]\n",
    "    #plt.plot(alpha)\n",
    "    \n",
    "    betta = amp[(chastota >= 12) & (chastota < 30)]\n",
    "    #plt.plot(betta)\n",
    "    \n",
    "    #alpha_HZ = irfft(alpha)\n",
    "    #plt.plot(alpha_HZ)\n",
    "    #betta_HZ = irfft(betta)\n",
    "    #plt.plot(betta_HZ)\n",
    "    #print(alpha)\n",
    "    return alpha.mean() if len(alpha) > 0 else 0, betta.mean() if len(betta) > 0 else 0"
   ]
  },
  {
   "cell_type": "code",
   "execution_count": 2,
   "metadata": {},
   "outputs": [],
   "source": [
    "def createDF(data, is_image, name, len_window = 100, step = 50, df = None):\n",
    "   \n",
    "    for i in range(0, len(data) - len_window, step):\n",
    "        alpha_mean, betta_mean = getFeatures(data[i:min(len(data), i + len_window)])\n",
    "        new_str = [str(i) + \"-\" + str(i + len_window)]\n",
    "        new_str.append(alpha_mean)\n",
    "        new_str.append(betta_mean)\n",
    "        new_str.append(is_image)\n",
    "        new_str.append(name)\n",
    "        #print(len(new_str), df.shape)\n",
    "        df.loc[len(df)] = new_str\n",
    "\n",
    "    df = df.fillna(0)\n",
    "    return df\n",
    "\n",
    "def get_feature(data, len_window = 50, step = 25):\n",
    "    data_res = data\n",
    "\n",
    "    df = create_table()\n",
    "    df = createDF(data_res, True,  \"to_pred\", df=df, len_window=len_window, step=step)\n",
    "    print(df)\n",
    "    df.drop(columns=[\"name\", \"is_image\"], inplace=True)\n",
    "    #print(df.shape)\n",
    "    return df.values"
   ]
  }
 ],
 "metadata": {
  "kernelspec": {
   "display_name": "Python 3",
   "language": "python",
   "name": "python3"
  },
  "language_info": {
   "codemirror_mode": {
    "name": "ipython",
    "version": 3
   },
   "file_extension": ".py",
   "mimetype": "text/x-python",
   "name": "python",
   "nbconvert_exporter": "python",
   "pygments_lexer": "ipython3",
   "version": "3.6.8"
  }
 },
 "nbformat": 4,
 "nbformat_minor": 2
}
